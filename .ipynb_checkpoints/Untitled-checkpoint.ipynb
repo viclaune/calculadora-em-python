{
 "cells": [
  {
   "cell_type": "code",
   "execution_count": 7,
   "id": "0bbbb8b4",
   "metadata": {},
   "outputs": [
    {
     "name": "stdout",
     "output_type": "stream",
     "text": [
      "********** Calculadora Python **********\n",
      "Selecione o número da operação desejada:\n",
      "1 - Soma\n",
      "2 - Subtração\n",
      "3 - Multiplicação\n",
      "4 - Divisão\n",
      "Digite sua opção (1/2/3/4):6\n",
      "Digite o primeiro número: 10\n",
      "Digite o segundo número: 20\n",
      "Escolha fora do range\n"
     ]
    }
   ],
   "source": [
    "print(\"********** Calculadora Python **********\")\n",
    "print(\"Selecione o número da operação desejada:\")\n",
    "print(\"1 - Soma\\n2 - Subtração\\n3 - Multiplicação\\n4 - Divisão\")\n",
    "\n",
    "escolha = int(input(\"Digite sua opção (1/2/3/4):\"))\n",
    "\n",
    "primeiro_numero = float(input(\"Digite o primeiro número: \"))\n",
    "segundo_numero = float(input(\"Digite o segundo número: \"))\n",
    "\n",
    "soma = lambda primeiro_numero, segundo_numero: primeiro_numero + segundo_numero\n",
    "subtracao = lambda primeiro_numero, segundo_numero: primeiro_numero - segundo_numero\n",
    "multiplicacao = lambda primeiro_numero, segundo_numero: primeiro_numero * segundo_numero\n",
    "divisao = lambda primeiro_numero, segundo_numero: primeiro_numero / segundo_numero\n",
    "\n",
    "if escolha == 1:\n",
    "    print(primeiro_numero, \"+\", segundo_numero, ' = ', soma(primeiro_numero, segundo_numero))\n",
    "elif escolha == 2:\n",
    "    print(primeiro_numero, \"-\", segundo_numero, ' = ', subtracao(primeiro_numero, segundo_numero))\n",
    "elif escolha == 3:\n",
    "    print(primeiro_numero, \"*\", segundo_numero, ' = ', multiplicacao(primeiro_numero, segundo_numero))\n",
    "elif escolha == 4:\n",
    "    print(primeiro_numero, \"/\", segundo_numero, ' = ', divisao(primeiro_numero, segundo_numero))\n",
    "else:\n",
    "    print(\"Escolha fora do range\")"
   ]
  }
 ],
 "metadata": {
  "kernelspec": {
   "display_name": "Python 3 (ipykernel)",
   "language": "python",
   "name": "python3"
  },
  "language_info": {
   "codemirror_mode": {
    "name": "ipython",
    "version": 3
   },
   "file_extension": ".py",
   "mimetype": "text/x-python",
   "name": "python",
   "nbconvert_exporter": "python",
   "pygments_lexer": "ipython3",
   "version": "3.10.4"
  }
 },
 "nbformat": 4,
 "nbformat_minor": 5
}
